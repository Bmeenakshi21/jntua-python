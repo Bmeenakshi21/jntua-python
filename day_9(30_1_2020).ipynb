{
  "nbformat": 4,
  "nbformat_minor": 0,
  "metadata": {
    "colab": {
      "name": "day 9(30/1/2020)",
      "provenance": [],
      "authorship_tag": "ABX9TyMC7EwrNOw30gA/BNsFsFsl",
      "include_colab_link": true
    },
    "kernelspec": {
      "name": "python3",
      "display_name": "Python 3"
    }
  },
  "cells": [
    {
      "cell_type": "markdown",
      "metadata": {
        "id": "view-in-github",
        "colab_type": "text"
      },
      "source": [
        "<a href=\"https://colab.research.google.com/github/Bmeenakshi21/jntua-python/blob/master/day_9(30_1_2020).ipynb\" target=\"_parent\"><img src=\"https://colab.research.google.com/assets/colab-badge.svg\" alt=\"Open In Colab\"/></a>"
      ]
    },
    {
      "cell_type": "code",
      "metadata": {
        "id": "UYTWPpE764Oz",
        "colab_type": "code",
        "colab": {}
      },
      "source": [
        ""
      ],
      "execution_count": 0,
      "outputs": []
    },
    {
      "cell_type": "markdown",
      "metadata": {
        "id": "1SQm8BMq8r3O",
        "colab_type": "text"
      },
      "source": [
        "# markdown\n",
        "## markdown\n",
        "### markdown\n",
        "#### markdown\n"
      ]
    },
    {
      "cell_type": "markdown",
      "metadata": {
        "id": "wPFQV_gb9lbc",
        "colab_type": "text"
      },
      "source": [
        "**points**\n",
        "\n",
        "*points*\n",
        "\n",
        "***points***"
      ]
    },
    {
      "cell_type": "markdown",
      "metadata": {
        "id": "XN8J-mJyG4RZ",
        "colab_type": "text"
      },
      "source": [
        "### inserting image\n",
        "[image](\n",
        "```\n",
        "\n",
        "][link text](https://https://www.google.com/search?q=jntua&sxsrf=ACYBGNSnAtutkVccUlObMAfy8RNLmX0jEA:1580382054125&source=lnms&tbm=isch&sa=X&ved=2ahUKEwjx6Mf3lavnAhXUF3IKHVg5CTIQ_AUoBHoECA0QBg&biw=1600&bih=789#imgrc=Yljz3WmB-oADhM:)"
      ]
    },
    {
      "cell_type": "code",
      "metadata": {
        "id": "LwG_aWTjLxwl",
        "colab_type": "code",
        "colab": {}
      },
      "source": [
        ""
      ],
      "execution_count": 0,
      "outputs": []
    },
    {
      "cell_type": "markdown",
      "metadata": {
        "id": "k3z_9CLoG_nj",
        "colab_type": "text"
      },
      "source": [
        ""
      ]
    },
    {
      "cell_type": "code",
      "metadata": {
        "id": "_TVt_gBKHCY6",
        "colab_type": "code",
        "colab": {
          "base_uri": "https://localhost:8080/",
          "height": 34
        },
        "outputId": "98850ecb-fa78-4589-f2eb-ebfce049ec46"
      },
      "source": [
        "print(\"hello, jntua\",\"|||\" ,\"chemical\",\"|||\",\"cse\" ,\"|||\",\"MCA\")"
      ],
      "execution_count": 2,
      "outputs": [
        {
          "output_type": "stream",
          "text": [
            "hello, jntua ||| chemical ||| cse ||| MCA\n"
          ],
          "name": "stdout"
        }
      ]
    },
    {
      "cell_type": "markdown",
      "metadata": {
        "id": "sOTjrz0sIFlQ",
        "colab_type": "text"
      },
      "source": [
        "Assignment\n"
      ]
    },
    {
      "cell_type": "code",
      "metadata": {
        "id": "XGcrHmmjI0dt",
        "colab_type": "code",
        "colab": {
          "base_uri": "https://localhost:8080/",
          "height": 51
        },
        "outputId": "4455d3b5-3171-4b4b-812c-104169312603"
      },
      "source": [
        "n1 = 100 # single variable assignment\n",
        "n1\n",
        "a = b = c =10 # multi variable assignment of same value\n",
        "print(a,b,c)\n",
        "a1,b1,c1=100,200,300 # multi variable assignment with different value\n",
        "print(a1,b1,c1)"
      ],
      "execution_count": 7,
      "outputs": [
        {
          "output_type": "stream",
          "text": [
            "10 10 10\n",
            "100 200 300\n"
          ],
          "name": "stdout"
        }
      ]
    },
    {
      "cell_type": "markdown",
      "metadata": {
        "id": "7e_1VYxiJiwF",
        "colab_type": "text"
      },
      "source": [
        "# data types and conversions\n",
        "* int\n",
        "* float\n",
        "* string"
      ]
    },
    {
      "cell_type": "code",
      "metadata": {
        "id": "TxK7cCTCJ9OT",
        "colab_type": "code",
        "colab": {
          "base_uri": "https://localhost:8080/",
          "height": 34
        },
        "outputId": "a2f8979d-b850-4a10-b848-f8c2037e8bd4"
      },
      "source": [
        "a1=100\n",
        "s1 = 10.2\n",
        "s2= \"python\"\n",
        "print(type(a),type(s1),type(s2))"
      ],
      "execution_count": 5,
      "outputs": [
        {
          "output_type": "stream",
          "text": [
            "<class 'int'> <class 'float'> <class 'str'>\n"
          ],
          "name": "stdout"
        }
      ]
    },
    {
      "cell_type": "code",
      "metadata": {
        "id": "cpro-Jv3K2w8",
        "colab_type": "code",
        "colab": {
          "base_uri": "https://localhost:8080/",
          "height": 68
        },
        "outputId": "bbd761f5-98ee-4b0d-b91f-03e7d028e83d"
      },
      "source": [
        "i = 100\n",
        "print(type(i))\n",
        "s1 = str(i)\n",
        "print(type(s1))\n",
        "f1 = float(i)\n",
        "print(type(f1))"
      ],
      "execution_count": 6,
      "outputs": [
        {
          "output_type": "stream",
          "text": [
            "<class 'int'>\n",
            "<class 'str'>\n",
            "<class 'float'>\n"
          ],
          "name": "stdout"
        }
      ]
    },
    {
      "cell_type": "code",
      "metadata": {
        "id": "AKz6O4FbLzqN",
        "colab_type": "code",
        "colab": {
          "base_uri": "https://localhost:8080/",
          "height": 34
        },
        "outputId": "5df3ef72-b1f9-490e-9ef5-df210958e51e"
      },
      "source": [
        "# length\n",
        "a = 123456\n",
        "print(len(str(a)))"
      ],
      "execution_count": 8,
      "outputs": [
        {
          "output_type": "stream",
          "text": [
            "6\n"
          ],
          "name": "stdout"
        }
      ]
    },
    {
      "cell_type": "markdown",
      "metadata": {
        "id": "JW1DB4leMkrD",
        "colab_type": "text"
      },
      "source": [
        "reading input from user---input function"
      ]
    },
    {
      "cell_type": "code",
      "metadata": {
        "id": "inySYV_FMudH",
        "colab_type": "code",
        "colab": {
          "base_uri": "https://localhost:8080/",
          "height": 68
        },
        "outputId": "22beaa6c-6031-466b-b552-194cba567905"
      },
      "source": [
        "a = input(\"enter ur name :\")\n",
        "print(a)\n",
        "print(type(a))"
      ],
      "execution_count": 11,
      "outputs": [
        {
          "output_type": "stream",
          "text": [
            "enter ur name :jntua\n",
            "jntua\n",
            "<class 'str'>\n"
          ],
          "name": "stdout"
        }
      ]
    },
    {
      "cell_type": "code",
      "metadata": {
        "id": "t_QK68TvNxsg",
        "colab_type": "code",
        "colab": {
          "base_uri": "https://localhost:8080/",
          "height": 68
        },
        "outputId": "edde1266-e520-41b6-b998-d5edc06bb8e6"
      },
      "source": [
        "b = int(input(\"enter ur age :\"))\n",
        "print(b)\n",
        "print(type(b))"
      ],
      "execution_count": 12,
      "outputs": [
        {
          "output_type": "stream",
          "text": [
            "enter ur age :20\n",
            "20\n",
            "<class 'int'>\n"
          ],
          "name": "stdout"
        }
      ]
    },
    {
      "cell_type": "markdown",
      "metadata": {
        "id": "XPoGlUgROJJl",
        "colab_type": "text"
      },
      "source": [
        "# operators\n",
        "- operator is a symbol used to perform a specific kind of operation"
      ]
    },
    {
      "cell_type": "markdown",
      "metadata": {
        "id": "hNszBBuROdU8",
        "colab_type": "text"
      },
      "source": [
        "# arthematic operator\n",
        "- +\n",
        "- -\n",
        "- *\n",
        "- /\n",
        "- %\n",
        "- //"
      ]
    },
    {
      "cell_type": "code",
      "metadata": {
        "id": "_GapRFZcOyLe",
        "colab_type": "code",
        "colab": {
          "base_uri": "https://localhost:8080/",
          "height": 136
        },
        "outputId": "a3bd2ad0-11e3-4cfc-dfeb-77cafc86643d"
      },
      "source": [
        "a = 1234\n",
        "print(a+10)\n",
        "print(a-10)\n",
        "print(a*10)\n",
        "print(a/10)\n",
        "print(a%10)\n",
        "print(a//10)\n",
        "print(a**10)"
      ],
      "execution_count": 14,
      "outputs": [
        {
          "output_type": "stream",
          "text": [
            "1244\n",
            "1224\n",
            "12340\n",
            "123.4\n",
            "4\n",
            "123\n",
            "8187505353567209228244052427776\n"
          ],
          "name": "stdout"
        }
      ]
    },
    {
      "cell_type": "markdown",
      "metadata": {
        "id": "hv7h6O1GRAd4",
        "colab_type": "text"
      },
      "source": [
        "# relational operator\n",
        "- =\n",
        "- ==\n",
        "- !=\n",
        "- <\n",
        "- >\n",
        "- =<\n",
        "- =>"
      ]
    },
    {
      "cell_type": "code",
      "metadata": {
        "id": "XX509Ni_Rm4N",
        "colab_type": "code",
        "colab": {
          "base_uri": "https://localhost:8080/",
          "height": 34
        },
        "outputId": "aed4c966-4822-47b2-d62f-ca06f227f15a"
      },
      "source": [
        "x =10\n",
        "a1 = x > 15\n",
        "print(a1)\n"
      ],
      "execution_count": 15,
      "outputs": [
        {
          "output_type": "stream",
          "text": [
            "False\n"
          ],
          "name": "stdout"
        }
      ]
    },
    {
      "cell_type": "markdown",
      "metadata": {
        "id": "d11mLaKQR_wm",
        "colab_type": "text"
      },
      "source": [
        "# logical operators\n",
        "- and\n",
        "- or\n",
        "- not"
      ]
    },
    {
      "cell_type": "code",
      "metadata": {
        "id": "Z15SuaSIST2V",
        "colab_type": "code",
        "colab": {
          "base_uri": "https://localhost:8080/",
          "height": 68
        },
        "outputId": "0788e277-1872-4dd9-e803-45693cebd808"
      },
      "source": [
        "i = 100\n",
        "a1 = (i>15) and (i < 800)\n",
        "a2 = (i>15) or (i > 800)\n",
        "i = not 100\n",
        "print(a1)\n",
        "print(a2)\n",
        "print(i)"
      ],
      "execution_count": 32,
      "outputs": [
        {
          "output_type": "stream",
          "text": [
            "True\n",
            "True\n",
            "False\n"
          ],
          "name": "stdout"
        }
      ]
    },
    {
      "cell_type": "markdown",
      "metadata": {
        "id": "NY95WPCbTvdK",
        "colab_type": "text"
      },
      "source": [
        "# control flow statements\n",
        "- conditional statements\n",
        "- looing statements"
      ]
    },
    {
      "cell_type": "code",
      "metadata": {
        "id": "3pFyh5_sT9cM",
        "colab_type": "code",
        "colab": {}
      },
      "source": [
        ""
      ],
      "execution_count": 0,
      "outputs": []
    },
    {
      "cell_type": "markdown",
      "metadata": {
        "id": "3NSH7991UKFl",
        "colab_type": "text"
      },
      "source": [
        "# if-else statements\n",
        "## syntax\n",
        "# if boolean_condition\n",
        "# statements\n",
        "# else:\n",
        "# statements"
      ]
    },
    {
      "cell_type": "code",
      "metadata": {
        "id": "M5sbMyRIUl6N",
        "colab_type": "code",
        "colab": {
          "base_uri": "https://localhost:8080/",
          "height": 51
        },
        "outputId": "f621a1e1-d925-4b9d-f534-596d719b4dc9"
      },
      "source": [
        "# To check given is even or odd\n",
        "n = int(input(\"enter a number\"))\n",
        "if n%2 ==0:\n",
        "  print(n,\"is even number\")\n",
        "else:\n",
        "    print(n,\"is odd number\")"
      ],
      "execution_count": 23,
      "outputs": [
        {
          "output_type": "stream",
          "text": [
            "enter a number45\n",
            "45 is odd number\n"
          ],
          "name": "stdout"
        }
      ]
    },
    {
      "cell_type": "code",
      "metadata": {
        "id": "qiDey95cV8Ej",
        "colab_type": "code",
        "colab": {
          "base_uri": "https://localhost:8080/",
          "height": 51
        },
        "outputId": "e229dfad-6512-4ab0-a1d0-2176b72b9c3f"
      },
      "source": [
        "# to check given number is perfectly multiples of 3 and 5\n",
        "n = int(input(\"enter a number\"))\n",
        "if n%3 ==0 and n%5 ==0:\n",
        "  print(n,\"is multiple of 3 and 5\")\n",
        "else:\n",
        "  print(n,\"not a multiple of 3 and 5\")\n",
        "\n"
      ],
      "execution_count": 34,
      "outputs": [
        {
          "output_type": "stream",
          "text": [
            "enter a number15\n",
            "15 is multiple of 3 and 5\n"
          ],
          "name": "stdout"
        }
      ]
    },
    {
      "cell_type": "code",
      "metadata": {
        "id": "6aEqbaFMYleB",
        "colab_type": "code",
        "colab": {
          "base_uri": "https://localhost:8080/",
          "height": 51
        },
        "outputId": "9063f260-1baf-4b51-fa7a-b27c9e8450ee"
      },
      "source": [
        "# to check whether a given number is positive,negative,zero\n",
        "n = int(input(\"enter a number\"))\n",
        "if n>0:\n",
        "  print(n,\"is positive\")\n",
        "elif n<0:\n",
        " print(n,\"is negative\")\n",
        "else:\n",
        "  print(n,\"is zero\")"
      ],
      "execution_count": 41,
      "outputs": [
        {
          "output_type": "stream",
          "text": [
            "enter a number40\n",
            "40 is positive\n"
          ],
          "name": "stdout"
        }
      ]
    },
    {
      "cell_type": "markdown",
      "metadata": {
        "id": "N-0-pIFYaT9A",
        "colab_type": "text"
      },
      "source": [
        "find the largest number among 3 given numbers"
      ]
    },
    {
      "cell_type": "code",
      "metadata": {
        "id": "0UJahZwFaiK0",
        "colab_type": "code",
        "colab": {
          "base_uri": "https://localhost:8080/",
          "height": 85
        },
        "outputId": "b665eb4c-b66c-46bd-8831-19352c2a0e45"
      },
      "source": [
        "a=int(input(\"enter a\"))\n",
        "b=int(input(\"enter b\"))\n",
        "c=int(input(\"enter c\"))\n",
        "if(a>b and a>c):\n",
        "  print(\"a is greater\")\n",
        "elif(b>a and b>c):\n",
        "   print(\"b is greater\")\n",
        "else:\n",
        "     print(\"c is greater\")"
      ],
      "execution_count": 40,
      "outputs": [
        {
          "output_type": "stream",
          "text": [
            "enter a45\n",
            "enter b25\n",
            "enter c35\n",
            "a is greater\n"
          ],
          "name": "stdout"
        }
      ]
    },
    {
      "cell_type": "markdown",
      "metadata": {
        "id": "NpxxmK9Tc36O",
        "colab_type": "text"
      },
      "source": [
        "leap year"
      ]
    },
    {
      "cell_type": "code",
      "metadata": {
        "id": "vCAm03ecc7mb",
        "colab_type": "code",
        "colab": {
          "base_uri": "https://localhost:8080/",
          "height": 129
        },
        "outputId": "a9bb37d5-d907-4336-b960-cc309d1e2f83"
      },
      "source": [
        "# to find leap year\n",
        "n = int(input(\"enter a number\"))\n",
        "if (n%4 ==0 and n%400! ==0 and n%100 ==0):\n",
        "  print(\"is leap year\")\n",
        "else:\n",
        "   print(\"not a leap year\")"
      ],
      "execution_count": 50,
      "outputs": [
        {
          "output_type": "error",
          "ename": "SyntaxError",
          "evalue": "ignored",
          "traceback": [
            "\u001b[0;36m  File \u001b[0;32m\"<ipython-input-50-635897992c31>\"\u001b[0;36m, line \u001b[0;32m2\u001b[0m\n\u001b[0;31m    if (n%4! ==0 and n%400! ==0 and n%100 ==0):\u001b[0m\n\u001b[0m           ^\u001b[0m\n\u001b[0;31mSyntaxError\u001b[0m\u001b[0;31m:\u001b[0m invalid syntax\n"
          ]
        }
      ]
    },
    {
      "cell_type": "code",
      "metadata": {
        "id": "pVw12Psxeb1F",
        "colab_type": "code",
        "colab": {}
      },
      "source": [
        ""
      ],
      "execution_count": 0,
      "outputs": []
    }
  ]
}